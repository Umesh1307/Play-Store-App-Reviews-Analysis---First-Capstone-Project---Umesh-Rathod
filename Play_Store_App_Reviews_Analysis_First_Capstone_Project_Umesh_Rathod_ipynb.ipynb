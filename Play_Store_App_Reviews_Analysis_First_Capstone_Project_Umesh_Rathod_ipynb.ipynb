{
  "nbformat": 4,
  "nbformat_minor": 0,
  "metadata": {
    "colab": {
      "name": "Play Store App Reviews Analysis-First Capstone Project- Umesh Rathod. ipynb",
      "provenance": [],
      "authorship_tag": "ABX9TyOW0/cL0E5icSckqrtzmIWL",
      "include_colab_link": true
    },
    "kernelspec": {
      "name": "python3",
      "display_name": "Python 3"
    },
    "language_info": {
      "name": "python"
    }
  },
  "cells": [
    {
      "cell_type": "markdown",
      "metadata": {
        "id": "view-in-github",
        "colab_type": "text"
      },
      "source": [
        "<a href=\"https://colab.research.google.com/github/Umesh1307/Play-Store-App-Reviews-Analysis---First-Capstone-Project---Umesh-Rathod/blob/main/Play_Store_App_Reviews_Analysis_First_Capstone_Project_Umesh_Rathod_ipynb.ipynb\" target=\"_parent\"><img src=\"https://colab.research.google.com/assets/colab-badge.svg\" alt=\"Open In Colab\"/></a>"
      ]
    },
    {
      "cell_type": "markdown",
      "metadata": {
        "id": "Ph_4nVJ5b_vR"
      },
      "source": [
        "## The Play Store apps data has enormous potential to drive app-making businesses to success. Actionable insights can be drawn for developers to work on and capture the Android market.\n",
        "## Each app (row) has values for catergory, rating, size, and more. Another dataset contains customer reviews of the android apps.\n",
        "## Explore and analyze the data to discover key factors responsible for app engagement and success"
      ]
    },
    {
      "cell_type": "markdown",
      "metadata": {
        "id": "9MVXP8gqcRS0"
      },
      "source": [
        "### Before deep-diving straight into the problem solution, we need to create a roadmap which we will be referring to throughout this exploratory data analysis.\n",
        "### Google Play Store is a digital store managed and developed by Google, which provides services like installing applications for android and Chrome-based OS users.\n",
        "### After installing applications some users give reviews and rating for the app they have used, this ratings and reviews defines the satisfaction of the customers, that's directly proportional to the performance of the app. So it is essential to analyze these ratings and reviews to improve the quality of service which will cater to the need of end-users.\n",
        "### The objective of this project is to deliver insights to understand customer demands better and thus help developers to popularize the product. It is of 10k Play Store apps for analyzing the Android market. This dataset contains details of different applications and reviews from different users.\n",
        "### Discussion of Google play store dataset will involve various steps such as\n",
        "### 1. loading the data into the data frame\n",
        "### 2. cleaning the data\n",
        "### 3. extracting statistics from the dataset\n",
        "### 4. exploratory analysis and visualizations\n",
        "### 5. questions that can be asked from the dataset\n",
        "### 6. conclusion"
      ]
    },
    {
      "cell_type": "code",
      "metadata": {
        "id": "gkGZuJnTc23l"
      },
      "source": [
        "# Let's go importing all the store of weapons needed, just kidding!\n",
        "import numpy as np\n",
        "import pandas as pd\n",
        "import matplotlib.pyplot as plt\n",
        "import seaborn as sns\n",
        "%matplotlib inline\n",
        "import warnings\n",
        "warnings.filterwarnings(\"ignore\")\n",
        "sns.set(rc={'figure.figsize':(16,7)})\n",
        "from pylab import rcParams"
      ],
      "execution_count": 1,
      "outputs": []
    },
    {
      "cell_type": "code",
      "metadata": {
        "colab": {
          "base_uri": "https://localhost:8080/"
        },
        "id": "MiP33ESDdAN5",
        "outputId": "304f2191-bb04-465c-a5c6-c67c419af07d"
      },
      "source": [
        "# Mount drive with google colab notebook\n",
        "from google.colab import drive\n",
        "drive.mount('/content/drive')"
      ],
      "execution_count": 2,
      "outputs": [
        {
          "output_type": "stream",
          "text": [
            "Mounted at /content/drive\n"
          ],
          "name": "stdout"
        }
      ]
    },
    {
      "cell_type": "markdown",
      "metadata": {
        "id": "GzYY6QrCdQMT"
      },
      "source": [
        "## Step 1. As per the roadmap we have created let's put feet on the first step i.e loading the dataset into dataframe"
      ]
    },
    {
      "cell_type": "code",
      "metadata": {
        "id": "HQ81bULqdHA2"
      },
      "source": [
        "# Create the directorial path for data\n",
        "dir_path=\"/content/drive/MyDrive/Almabetter Project/Capstone - Projects/Module 1/Play Store App Review - Umesh Rathod\""
      ],
      "execution_count": 3,
      "outputs": []
    },
    {
      "cell_type": "code",
      "metadata": {
        "id": "i8uzI_sydba0"
      },
      "source": [
        "# Let's read it\n",
        "play_store_df=pd.read_csv(dir_path+ \"/Play Store Data.csv\")"
      ],
      "execution_count": 4,
      "outputs": []
    },
    {
      "cell_type": "code",
      "metadata": {
        "id": "IZzvLS0JdfSW"
      },
      "source": [
        "#  Writing a small for loop to convert uppercase to lowercase and replacing the spaces with underscore\n",
        "play_store_df.columns=[str(x).lower().replace(\" \",\"_\") for x in play_store_df.columns]"
      ],
      "execution_count": 5,
      "outputs": []
    },
    {
      "cell_type": "code",
      "metadata": {
        "colab": {
          "base_uri": "https://localhost:8080/",
          "height": 204
        },
        "id": "8yCXzyTbdfU0",
        "outputId": "726765f1-ba1e-4123-cda1-efe398beba99"
      },
      "source": [
        "# Check data what it has from top !\n",
        "play_store_df.head()"
      ],
      "execution_count": 6,
      "outputs": [
        {
          "output_type": "execute_result",
          "data": {
            "text/html": [
              "<div>\n",
              "<style scoped>\n",
              "    .dataframe tbody tr th:only-of-type {\n",
              "        vertical-align: middle;\n",
              "    }\n",
              "\n",
              "    .dataframe tbody tr th {\n",
              "        vertical-align: top;\n",
              "    }\n",
              "\n",
              "    .dataframe thead th {\n",
              "        text-align: right;\n",
              "    }\n",
              "</style>\n",
              "<table border=\"1\" class=\"dataframe\">\n",
              "  <thead>\n",
              "    <tr style=\"text-align: right;\">\n",
              "      <th></th>\n",
              "      <th>app</th>\n",
              "      <th>category</th>\n",
              "      <th>rating</th>\n",
              "      <th>reviews</th>\n",
              "      <th>size</th>\n",
              "      <th>installs</th>\n",
              "      <th>type</th>\n",
              "      <th>price</th>\n",
              "      <th>content_rating</th>\n",
              "      <th>genres</th>\n",
              "      <th>last_updated</th>\n",
              "      <th>current_ver</th>\n",
              "      <th>android_ver</th>\n",
              "    </tr>\n",
              "  </thead>\n",
              "  <tbody>\n",
              "    <tr>\n",
              "      <th>0</th>\n",
              "      <td>Photo Editor &amp; Candy Camera &amp; Grid &amp; ScrapBook</td>\n",
              "      <td>ART_AND_DESIGN</td>\n",
              "      <td>4.1</td>\n",
              "      <td>159</td>\n",
              "      <td>19M</td>\n",
              "      <td>10,000+</td>\n",
              "      <td>Free</td>\n",
              "      <td>0</td>\n",
              "      <td>Everyone</td>\n",
              "      <td>Art &amp; Design</td>\n",
              "      <td>January 7, 2018</td>\n",
              "      <td>1.0.0</td>\n",
              "      <td>4.0.3 and up</td>\n",
              "    </tr>\n",
              "    <tr>\n",
              "      <th>1</th>\n",
              "      <td>Coloring book moana</td>\n",
              "      <td>ART_AND_DESIGN</td>\n",
              "      <td>3.9</td>\n",
              "      <td>967</td>\n",
              "      <td>14M</td>\n",
              "      <td>500,000+</td>\n",
              "      <td>Free</td>\n",
              "      <td>0</td>\n",
              "      <td>Everyone</td>\n",
              "      <td>Art &amp; Design;Pretend Play</td>\n",
              "      <td>January 15, 2018</td>\n",
              "      <td>2.0.0</td>\n",
              "      <td>4.0.3 and up</td>\n",
              "    </tr>\n",
              "    <tr>\n",
              "      <th>2</th>\n",
              "      <td>U Launcher Lite – FREE Live Cool Themes, Hide ...</td>\n",
              "      <td>ART_AND_DESIGN</td>\n",
              "      <td>4.7</td>\n",
              "      <td>87510</td>\n",
              "      <td>8.7M</td>\n",
              "      <td>5,000,000+</td>\n",
              "      <td>Free</td>\n",
              "      <td>0</td>\n",
              "      <td>Everyone</td>\n",
              "      <td>Art &amp; Design</td>\n",
              "      <td>August 1, 2018</td>\n",
              "      <td>1.2.4</td>\n",
              "      <td>4.0.3 and up</td>\n",
              "    </tr>\n",
              "    <tr>\n",
              "      <th>3</th>\n",
              "      <td>Sketch - Draw &amp; Paint</td>\n",
              "      <td>ART_AND_DESIGN</td>\n",
              "      <td>4.5</td>\n",
              "      <td>215644</td>\n",
              "      <td>25M</td>\n",
              "      <td>50,000,000+</td>\n",
              "      <td>Free</td>\n",
              "      <td>0</td>\n",
              "      <td>Teen</td>\n",
              "      <td>Art &amp; Design</td>\n",
              "      <td>June 8, 2018</td>\n",
              "      <td>Varies with device</td>\n",
              "      <td>4.2 and up</td>\n",
              "    </tr>\n",
              "    <tr>\n",
              "      <th>4</th>\n",
              "      <td>Pixel Draw - Number Art Coloring Book</td>\n",
              "      <td>ART_AND_DESIGN</td>\n",
              "      <td>4.3</td>\n",
              "      <td>967</td>\n",
              "      <td>2.8M</td>\n",
              "      <td>100,000+</td>\n",
              "      <td>Free</td>\n",
              "      <td>0</td>\n",
              "      <td>Everyone</td>\n",
              "      <td>Art &amp; Design;Creativity</td>\n",
              "      <td>June 20, 2018</td>\n",
              "      <td>1.1</td>\n",
              "      <td>4.4 and up</td>\n",
              "    </tr>\n",
              "  </tbody>\n",
              "</table>\n",
              "</div>"
            ],
            "text/plain": [
              "                                                 app  ...   android_ver\n",
              "0     Photo Editor & Candy Camera & Grid & ScrapBook  ...  4.0.3 and up\n",
              "1                                Coloring book moana  ...  4.0.3 and up\n",
              "2  U Launcher Lite – FREE Live Cool Themes, Hide ...  ...  4.0.3 and up\n",
              "3                              Sketch - Draw & Paint  ...    4.2 and up\n",
              "4              Pixel Draw - Number Art Coloring Book  ...    4.4 and up\n",
              "\n",
              "[5 rows x 13 columns]"
            ]
          },
          "metadata": {
            "tags": []
          },
          "execution_count": 6
        }
      ]
    },
    {
      "cell_type": "code",
      "metadata": {
        "colab": {
          "base_uri": "https://localhost:8080/",
          "height": 254
        },
        "id": "lgd4zCY9dfXd",
        "outputId": "2b920c5c-2d78-4cf8-fc81-c0da0413703d"
      },
      "source": [
        "# Check it from bottom\n",
        "play_store_df.tail()"
      ],
      "execution_count": 7,
      "outputs": [
        {
          "output_type": "execute_result",
          "data": {
            "text/html": [
              "<div>\n",
              "<style scoped>\n",
              "    .dataframe tbody tr th:only-of-type {\n",
              "        vertical-align: middle;\n",
              "    }\n",
              "\n",
              "    .dataframe tbody tr th {\n",
              "        vertical-align: top;\n",
              "    }\n",
              "\n",
              "    .dataframe thead th {\n",
              "        text-align: right;\n",
              "    }\n",
              "</style>\n",
              "<table border=\"1\" class=\"dataframe\">\n",
              "  <thead>\n",
              "    <tr style=\"text-align: right;\">\n",
              "      <th></th>\n",
              "      <th>app</th>\n",
              "      <th>category</th>\n",
              "      <th>rating</th>\n",
              "      <th>reviews</th>\n",
              "      <th>size</th>\n",
              "      <th>installs</th>\n",
              "      <th>type</th>\n",
              "      <th>price</th>\n",
              "      <th>content_rating</th>\n",
              "      <th>genres</th>\n",
              "      <th>last_updated</th>\n",
              "      <th>current_ver</th>\n",
              "      <th>android_ver</th>\n",
              "    </tr>\n",
              "  </thead>\n",
              "  <tbody>\n",
              "    <tr>\n",
              "      <th>10836</th>\n",
              "      <td>Sya9a Maroc - FR</td>\n",
              "      <td>FAMILY</td>\n",
              "      <td>4.5</td>\n",
              "      <td>38</td>\n",
              "      <td>53M</td>\n",
              "      <td>5,000+</td>\n",
              "      <td>Free</td>\n",
              "      <td>0</td>\n",
              "      <td>Everyone</td>\n",
              "      <td>Education</td>\n",
              "      <td>July 25, 2017</td>\n",
              "      <td>1.48</td>\n",
              "      <td>4.1 and up</td>\n",
              "    </tr>\n",
              "    <tr>\n",
              "      <th>10837</th>\n",
              "      <td>Fr. Mike Schmitz Audio Teachings</td>\n",
              "      <td>FAMILY</td>\n",
              "      <td>5.0</td>\n",
              "      <td>4</td>\n",
              "      <td>3.6M</td>\n",
              "      <td>100+</td>\n",
              "      <td>Free</td>\n",
              "      <td>0</td>\n",
              "      <td>Everyone</td>\n",
              "      <td>Education</td>\n",
              "      <td>July 6, 2018</td>\n",
              "      <td>1.0</td>\n",
              "      <td>4.1 and up</td>\n",
              "    </tr>\n",
              "    <tr>\n",
              "      <th>10838</th>\n",
              "      <td>Parkinson Exercices FR</td>\n",
              "      <td>MEDICAL</td>\n",
              "      <td>NaN</td>\n",
              "      <td>3</td>\n",
              "      <td>9.5M</td>\n",
              "      <td>1,000+</td>\n",
              "      <td>Free</td>\n",
              "      <td>0</td>\n",
              "      <td>Everyone</td>\n",
              "      <td>Medical</td>\n",
              "      <td>January 20, 2017</td>\n",
              "      <td>1.0</td>\n",
              "      <td>2.2 and up</td>\n",
              "    </tr>\n",
              "    <tr>\n",
              "      <th>10839</th>\n",
              "      <td>The SCP Foundation DB fr nn5n</td>\n",
              "      <td>BOOKS_AND_REFERENCE</td>\n",
              "      <td>4.5</td>\n",
              "      <td>114</td>\n",
              "      <td>Varies with device</td>\n",
              "      <td>1,000+</td>\n",
              "      <td>Free</td>\n",
              "      <td>0</td>\n",
              "      <td>Mature 17+</td>\n",
              "      <td>Books &amp; Reference</td>\n",
              "      <td>January 19, 2015</td>\n",
              "      <td>Varies with device</td>\n",
              "      <td>Varies with device</td>\n",
              "    </tr>\n",
              "    <tr>\n",
              "      <th>10840</th>\n",
              "      <td>iHoroscope - 2018 Daily Horoscope &amp; Astrology</td>\n",
              "      <td>LIFESTYLE</td>\n",
              "      <td>4.5</td>\n",
              "      <td>398307</td>\n",
              "      <td>19M</td>\n",
              "      <td>10,000,000+</td>\n",
              "      <td>Free</td>\n",
              "      <td>0</td>\n",
              "      <td>Everyone</td>\n",
              "      <td>Lifestyle</td>\n",
              "      <td>July 25, 2018</td>\n",
              "      <td>Varies with device</td>\n",
              "      <td>Varies with device</td>\n",
              "    </tr>\n",
              "  </tbody>\n",
              "</table>\n",
              "</div>"
            ],
            "text/plain": [
              "                                                 app  ...         android_ver\n",
              "10836                               Sya9a Maroc - FR  ...          4.1 and up\n",
              "10837               Fr. Mike Schmitz Audio Teachings  ...          4.1 and up\n",
              "10838                         Parkinson Exercices FR  ...          2.2 and up\n",
              "10839                  The SCP Foundation DB fr nn5n  ...  Varies with device\n",
              "10840  iHoroscope - 2018 Daily Horoscope & Astrology  ...  Varies with device\n",
              "\n",
              "[5 rows x 13 columns]"
            ]
          },
          "metadata": {
            "tags": []
          },
          "execution_count": 7
        }
      ]
    },
    {
      "cell_type": "code",
      "metadata": {
        "colab": {
          "base_uri": "https://localhost:8080/"
        },
        "id": "ycApTDN4dfZk",
        "outputId": "fc8959f2-8cbf-4ddd-dd08-f26f09bd4139"
      },
      "source": [
        "# Checking the shape of the play store data set.\n",
        "print(f\"The shape of the google play store data set is {play_store_df.shape}, where number of rows are  {play_store_df.shape[0]}  and {play_store_df.shape[1]} columns\")"
      ],
      "execution_count": 9,
      "outputs": [
        {
          "output_type": "stream",
          "text": [
            "The shape of the google play store data set is (10841, 13), where number of rows are  10841  and 13 columns\n"
          ],
          "name": "stdout"
        }
      ]
    },
    {
      "cell_type": "code",
      "metadata": {
        "id": "ghm9YOMCdfc8"
      },
      "source": [
        "# Dropping the features that we will not be using extensively\n",
        "play_store_df=play_store_df.drop(['current_ver',\"android_ver\"],axis=1)"
      ],
      "execution_count": 10,
      "outputs": []
    },
    {
      "cell_type": "code",
      "metadata": {
        "colab": {
          "base_uri": "https://localhost:8080/"
        },
        "id": "I2jqi1K0dfm_",
        "outputId": "68a5a95a-aec3-43f1-e11c-8457aeecac6d"
      },
      "source": [
        "# Need to know the null values in each row of columns:\n",
        "play_store_df.isnull().sum()"
      ],
      "execution_count": 11,
      "outputs": [
        {
          "output_type": "execute_result",
          "data": {
            "text/plain": [
              "app                  0\n",
              "category             0\n",
              "rating            1474\n",
              "reviews              0\n",
              "size                 0\n",
              "installs             0\n",
              "type                 1\n",
              "price                0\n",
              "content_rating       1\n",
              "genres               0\n",
              "last_updated         0\n",
              "dtype: int64"
            ]
          },
          "metadata": {
            "tags": []
          },
          "execution_count": 11
        }
      ]
    },
    {
      "cell_type": "markdown",
      "metadata": {
        "id": "c0I8twJ9fy4w"
      },
      "source": [
        "### As we can explicitly see that there are 1474 missing values in rating columns. We have to fill these values with proper calculation. . But the question is how to handle the rating columns because we can not assign those as median, mean, or mode as in real life ratings are given by the customers, We are now using forward linear interpolation to fill nan values inside the rating column."
      ]
    },
    {
      "cell_type": "code",
      "metadata": {
        "id": "CtFvqs6Vdfpv"
      },
      "source": [
        "# Missing Value Handling using interpolate forward linear method.\n",
        "play_store_df.interpolate(method='linear',limit_direction='forward',inplace=True)"
      ],
      "execution_count": 12,
      "outputs": []
    },
    {
      "cell_type": "code",
      "metadata": {
        "colab": {
          "base_uri": "https://localhost:8080/"
        },
        "id": "-o-pFsCtdfsa",
        "outputId": "60aa2fc7-1db5-4162-b117-98ad6d8b019f"
      },
      "source": [
        "# Rechecking for null values\n",
        "play_store_df.isnull().sum()"
      ],
      "execution_count": 13,
      "outputs": [
        {
          "output_type": "execute_result",
          "data": {
            "text/plain": [
              "app               0\n",
              "category          0\n",
              "rating            0\n",
              "reviews           0\n",
              "size              0\n",
              "installs          0\n",
              "type              1\n",
              "price             0\n",
              "content_rating    1\n",
              "genres            0\n",
              "last_updated      0\n",
              "dtype: int64"
            ]
          },
          "metadata": {
            "tags": []
          },
          "execution_count": 13
        }
      ]
    },
    {
      "cell_type": "markdown",
      "metadata": {
        "id": "OwyrrdOGglpu"
      },
      "source": [
        "### As we can see there is one missing value in the content rating feature and one missing value inside type features, now we will be filling those two values with appropriate values."
      ]
    },
    {
      "cell_type": "code",
      "metadata": {
        "id": "lhCrr2UTdfvX"
      },
      "source": [
        "# Filling NAN with suitable values\n",
        "play_store_df['content_rating'].fillna(value='Everyone',inplace=True)\n",
        "play_store_df['type'].fillna(value='Free',inplace=True)"
      ],
      "execution_count": 14,
      "outputs": []
    },
    {
      "cell_type": "code",
      "metadata": {
        "colab": {
          "base_uri": "https://localhost:8080/"
        },
        "id": "1e242n5Fdfxy",
        "outputId": "2ee2ff52-4f85-4c04-d925-3d12cad26cd9"
      },
      "source": [
        "# Final Check For Null Values.\n",
        "play_store_df.isnull().sum().any()"
      ],
      "execution_count": 17,
      "outputs": [
        {
          "output_type": "execute_result",
          "data": {
            "text/plain": [
              "False"
            ]
          },
          "metadata": {
            "tags": []
          },
          "execution_count": 17
        }
      ]
    },
    {
      "cell_type": "code",
      "metadata": {
        "colab": {
          "base_uri": "https://localhost:8080/"
        },
        "id": "SWi8su6Fdf0I",
        "outputId": "18597137-80dc-419d-da8d-ffe577072d55"
      },
      "source": [
        "# Let's have a look at the information \n",
        "play_store_df.info()"
      ],
      "execution_count": 18,
      "outputs": [
        {
          "output_type": "stream",
          "text": [
            "<class 'pandas.core.frame.DataFrame'>\n",
            "RangeIndex: 10841 entries, 0 to 10840\n",
            "Data columns (total 11 columns):\n",
            " #   Column          Non-Null Count  Dtype  \n",
            "---  ------          --------------  -----  \n",
            " 0   app             10841 non-null  object \n",
            " 1   category        10841 non-null  object \n",
            " 2   rating          10841 non-null  float64\n",
            " 3   reviews         10841 non-null  object \n",
            " 4   size            10841 non-null  object \n",
            " 5   installs        10841 non-null  object \n",
            " 6   type            10841 non-null  object \n",
            " 7   price           10841 non-null  object \n",
            " 8   content_rating  10841 non-null  object \n",
            " 9   genres          10841 non-null  object \n",
            " 10  last_updated    10841 non-null  object \n",
            "dtypes: float64(1), object(10)\n",
            "memory usage: 931.8+ KB\n"
          ],
          "name": "stdout"
        }
      ]
    },
    {
      "cell_type": "markdown",
      "metadata": {
        "id": "N6rM93u0oHPE"
      },
      "source": [
        "##Step 2. Mission Cleaning Starts here!\n",
        "###After looking at the information about all data features in given data set, there is demand to work around data and make it useable flawlessly, Let's get down to business guys!"
      ]
    },
    {
      "cell_type": "code",
      "metadata": {
        "id": "SVh36CH3df22"
      },
      "source": [
        "# Converting the into the proper data structure, though ratings are already a float64, just comfirming.\n",
        "play_store_df['rating']=play_store_df['rating'].astype(str).astype(float)"
      ],
      "execution_count": 19,
      "outputs": []
    },
    {
      "cell_type": "code",
      "metadata": {
        "id": "LF_ir39Qdf6L"
      },
      "source": [
        "# As we can see in play store info we need to typecast this to the proper integer\n",
        "play_store_df['reviews']=play_store_df['reviews'].apply(lambda x:x.replace(\"3.0M\",\"3000000\"))\n",
        "play_store_df['reviews']=play_store_df['reviews'].apply(lambda x: int(x))"
      ],
      "execution_count": 20,
      "outputs": []
    },
    {
      "cell_type": "code",
      "metadata": {
        "id": "GgamXjILogs9"
      },
      "source": [
        "# Just converting the number of installs into proper integer number\n",
        "play_store_df=play_store_df[play_store_df['installs']!='Free']\n",
        "play_store_df['installs']=play_store_df['installs'].apply(lambda x : x.replace(\"+\",\"\")if \"+\" in str(x) else x)\n",
        "play_store_df['installs']=play_store_df['installs'].apply(lambda x: x.replace(\",\",\"\") if \",\" in str(x) else x)\n",
        "play_store_df['installs']=play_store_df['installs'].apply(lambda x: int(x))"
      ],
      "execution_count": 21,
      "outputs": []
    },
    {
      "cell_type": "code",
      "metadata": {
        "id": "QU7NFxwSogvf"
      },
      "source": [
        "# Price never be an object it should be a float\n",
        "play_store_df['price']=play_store_df['price'].apply(lambda x: x.replace(\"$\",\"\") if \"$\" in str(x) else x)\n",
        "play_store_df['price']=play_store_df['price'].apply(lambda x:float(x))"
      ],
      "execution_count": 22,
      "outputs": []
    },
    {
      "cell_type": "code",
      "metadata": {
        "id": "LhiK4v5YogyM"
      },
      "source": [
        "# Let's fix the size column\n",
        "play_store_df['size']=play_store_df['size'].apply(lambda x : str(x).replace(\"Varies with device\",\"NaN\") if \"Varies with device\" in str(x) else x)\n",
        "play_store_df['size']=play_store_df['size'].apply(lambda x:  str(x).replace(\"M\",\"\") if \"M\" in str(x) else x)\n",
        "play_store_df['size']=play_store_df['size'].apply(lambda x:  float(str(x).replace(\"k\",\"\"))/1000 if \"k\" in str(x) else x)\n",
        "play_store_df['size']=play_store_df['size'].apply(lambda x:  float(x))"
      ],
      "execution_count": 23,
      "outputs": []
    },
    {
      "cell_type": "code",
      "metadata": {
        "id": "0UAzn5CZog1X"
      },
      "source": [
        "# Fixing last updated object to proper datetime \n",
        "play_store_df['last_updated'].unique()\n",
        "play_store_df['last_updated']=pd.to_datetime(play_store_df['last_updated'])"
      ],
      "execution_count": 24,
      "outputs": []
    },
    {
      "cell_type": "code",
      "metadata": {
        "colab": {
          "base_uri": "https://localhost:8080/"
        },
        "id": "H2pzlWpPowU5",
        "outputId": "9b9656e6-d2a7-4eb4-9ba0-ed09243108fe"
      },
      "source": [
        "# Unique category \n",
        "len(play_store_df['category'].unique())"
      ],
      "execution_count": 25,
      "outputs": [
        {
          "output_type": "execute_result",
          "data": {
            "text/plain": [
              "33"
            ]
          },
          "metadata": {
            "tags": []
          },
          "execution_count": 25
        }
      ]
    },
    {
      "cell_type": "code",
      "metadata": {
        "id": "jVXT5aqXozJA"
      },
      "source": [
        ""
      ],
      "execution_count": null,
      "outputs": []
    }
  ]
}